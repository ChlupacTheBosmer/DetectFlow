{
 "cells": [
  {
   "cell_type": "markdown",
   "source": [
    "# Installation\n",
    "## Clone repo\n",
    "\n",
    "Creating directory via Jupyter but using bash commands. It is possible if we include “!” before the bash expression. Note that the path is using an environmental variable automatically set on Metacentrum (”$USER”). This will automatically fill your user name and the folder will be created in your user directory. Then we clone the repo."
   ],
   "metadata": {
    "collapsed": false
   },
   "id": "f1b1a7340907314d"
  },
  {
   "cell_type": "code",
   "execution_count": 10,
   "outputs": [
    {
     "name": "stdout",
     "output_type": "stream",
     "text": [
      "mkdir: cannot create directory ‘/storage/brno2/home/USER/onboarding/’: File exists\n",
      "mkdir: cannot create directory ‘/storage/brno2/home/USER/onboarding/DetectFlow’: File exists\n"
     ]
    }
   ],
   "source": [
    "# Create a dictionary to store the repo\n",
    "!mkdir \"/storage/brno2/home/$USER/onboarding/\""
   ],
   "metadata": {
    "collapsed": false
   },
   "id": "1c3faad078e7e5c3"
  },
  {
   "cell_type": "code",
   "execution_count": 17,
   "outputs": [
    {
     "name": "stdout",
     "output_type": "stream",
     "text": [
      "Cloning into 'DetectFlow'...\n",
      "remote: Enumerating objects: 315, done.\u001B[K\n",
      "remote: Counting objects: 100% (315/315), done.\u001B[K\n",
      "remote: Compressing objects: 100% (200/200), done.\u001B[K\n",
      "remote: Total 315 (delta 184), reused 238 (delta 110), pack-reused 0\u001B[K\n",
      "Receiving objects: 100% (315/315), 185.32 KiB | 358.00 KiB/s, done.\n",
      "Resolving deltas: 100% (184/184), done.\n",
      "Updating files: 100% (67/67), done.\n"
     ]
    }
   ],
   "source": [
    "# Clone GitHUb repository\n",
    "!cd \"/storage/brno2/home/$USER/onboarding/\" && git clone https://github.com/ChlupacTheBosmer/DetectFlow"
   ],
   "metadata": {
    "collapsed": false
   },
   "id": "a7b3aa7d4f408ec"
  },
  {
   "cell_type": "markdown",
   "source": [
    "## Install detectflow from repo\n",
    "\n",
    "Then we install the package from the repository. Note that we are pulling the repo again before installation. This series of commands can be used anytime in the future when updating the package. The “&&”s between the commands on a same line must be preserved. Jupyter runs the commands separately and in order for this to work they must be on the same line.\n",
    "\n",
    "Sometimes the package may not be recognized because it is not installed in a location that is “on PATH” meaning that it is not in a location where python automatically checks for installed packages. You will be notified about this via the console during the dependency installation. Then you need to manually add such locations into the environmental PATH variable like so. The location of the installation will be printed in the console as well. You may need to experiment with this and add more relevant paths to the PATH.\n",
    "\n",
    "Make sure to restart the Jupyter kernel after this as the discovery of packages happens when the kernel is initialized."
   ],
   "metadata": {
    "collapsed": false
   },
   "id": "c16a117014220b79"
  },
  {
   "cell_type": "code",
   "execution_count": 13,
   "outputs": [
    {
     "name": "stdout",
     "output_type": "stream",
     "text": [
      "remote: Enumerating objects: 90, done.\u001B[K\n",
      "remote: Counting objects: 100% (90/90), done.\u001B[K\n",
      "remote: Compressing objects: 100% (37/37), done.\u001B[K\n",
      "remote: Total 69 (delta 49), reused 51 (delta 31), pack-reused 0\u001B[K\n",
      "Unpacking objects: 100% (69/69), 19.62 MiB | 2.70 MiB/s, done.\n",
      "From https://github.com/ChlupacTheBosmer/DetectFlow\n",
      "   5eab246..ddea908  main       -> origin/main\n",
      "Updating 5eab246..ddea908\n",
      "Updating files: 100% (13/13), done.\n",
      "Fast-forward\n",
      " detectflow/manipulators/box_analyser.py            |  10 \u001B[32m+\u001B[m\u001B[31m-\u001B[m\n",
      " detectflow/predict/predictor.py                    |  11 \u001B[32m+\u001B[m\u001B[31m-\u001B[m\n",
      " detectflow/process/database_manager.py             | 610 \u001B[32m++++++++++\u001B[m\u001B[31m-----------\u001B[m\n",
      " detectflow/utils/inspector.py                      |  53 \u001B[32m+\u001B[m\u001B[31m-\u001B[m\n",
      " detectflow/utils/sampler.py                        |  29 \u001B[32m+\u001B[m\u001B[31m-\u001B[m\n",
      " detectflow/validators/object_detect_validator.py   |   2 \u001B[32m+\u001B[m\u001B[31m-\u001B[m\n",
      " detectflow/video/picture_quality.py                |   2 \u001B[32m+\u001B[m\u001B[31m-\u001B[m\n",
      " detectflow/video/video_data.py                     |   2 \u001B[32m+\u001B[m\u001B[31m-\u001B[m\n",
      " detectflow/video/video_diagnoser.py                |  99 \u001B[32m+++\u001B[m\u001B[31m-\u001B[m\n",
      " tests/manipulators/box_analyser_unittest.py        |  24 \u001B[32m+\u001B[m\u001B[31m-\u001B[m\n",
      " tests/utils/inspector_realtest.py                  |  29 \u001B[32m+\u001B[m\n",
      " .../resources/GR2_L1_TolUmb2_20220524_07_44.mp4    | Bin \u001B[31m0\u001B[m -> \u001B[32m21846639\u001B[m bytes\n",
      " tests/video/video_diagnoser_realtest.py            | 123 \u001B[32m+++\u001B[m\u001B[31m--\u001B[m\n",
      " 13 files changed, 585 insertions(+), 409 deletions(-)\n",
      " create mode 100644 tests/utils/inspector_realtest.py\n",
      " create mode 100644 tests/video/resources/GR2_L1_TolUmb2_20220524_07_44.mp4\n",
      "Defaulting to user installation because normal site-packages is not writeable\n",
      "Looking in indexes: https://pypi.org/simple, https://pypi.ngc.nvidia.com\n",
      "Obtaining file:///auto/brno2/home/USER/onboarding/DetectFlow\n",
      "  Preparing metadata (setup.py) ... \u001B[?25ldone\n",
      "\u001B[?25hRequirement already satisfied: boto3 in /auto/brno2/home/USER/.local/lib/python3.10/site-packages (from detectflow==0.1.0) (1.33.10)\n",
      "Requirement already satisfied: decord in /auto/brno2/home/USER/.local/lib/python3.10/site-packages (from detectflow==0.1.0) (0.6.0)\n",
      "Requirement already satisfied: hachoir in /auto/brno2/home/USER/.local/lib/python3.10/site-packages (from detectflow==0.1.0) (3.2.0)\n",
      "Requirement already satisfied: imageio in /auto/brno2/home/USER/.local/lib/python3.10/site-packages (from detectflow==0.1.0) (2.33.0)\n",
      "Requirement already satisfied: matplotlib in /usr/local/lib/python3.10/dist-packages (from detectflow==0.1.0) (3.7.2)\n",
      "Requirement already satisfied: numpy in /usr/local/lib/python3.10/dist-packages (from detectflow==0.1.0) (1.22.2)\n",
      "Requirement already satisfied: opencv_python in /auto/brno2/home/USER/.local/lib/python3.10/site-packages (from detectflow==0.1.0) (4.7.0.72)\n",
      "Requirement already satisfied: opencv_contrib_python in /auto/brno2/home/USER/.local/lib/python3.10/site-packages (from detectflow==0.1.0) (4.9.0.80)\n",
      "Requirement already satisfied: pandas in /usr/local/lib/python3.10/dist-packages (from detectflow==0.1.0) (1.5.2)\n",
      "Requirement already satisfied: Pillow in /auto/brno2/home/USER/.local/lib/python3.10/site-packages (from detectflow==0.1.0) (10.1.0)\n",
      "Requirement already satisfied: scikit_learn in /usr/local/lib/python3.10/dist-packages (from detectflow==0.1.0) (1.2.0)\n",
      "Requirement already satisfied: scipy in /usr/local/lib/python3.10/dist-packages (from detectflow==0.1.0) (1.11.1)\n",
      "Requirement already satisfied: setuptools in /usr/local/lib/python3.10/dist-packages (from detectflow==0.1.0) (68.0.0)\n",
      "Requirement already satisfied: torch in /usr/local/lib/python3.10/dist-packages (from detectflow==0.1.0) (2.1.0a0+29c30b1)\n",
      "Requirement already satisfied: ultralytics in /usr/local/lib/python3.10/dist-packages (from detectflow==0.1.0) (8.0.199)\n",
      "Requirement already satisfied: python-dateutil in /usr/local/lib/python3.10/dist-packages (from detectflow==0.1.0) (2.8.2)\n",
      "Requirement already satisfied: botocore<1.34.0,>=1.33.10 in /auto/brno2/home/USER/.local/lib/python3.10/site-packages (from boto3->detectflow==0.1.0) (1.33.10)\n",
      "Requirement already satisfied: jmespath<2.0.0,>=0.7.1 in /auto/brno2/home/USER/.local/lib/python3.10/site-packages (from boto3->detectflow==0.1.0) (1.0.1)\n",
      "Requirement already satisfied: s3transfer<0.9.0,>=0.8.2 in /auto/brno2/home/USER/.local/lib/python3.10/site-packages (from boto3->detectflow==0.1.0) (0.8.2)\n",
      "Requirement already satisfied: contourpy>=1.0.1 in /usr/local/lib/python3.10/dist-packages (from matplotlib->detectflow==0.1.0) (1.1.0)\n",
      "Requirement already satisfied: cycler>=0.10 in /auto/brno2/home/USER/.local/lib/python3.10/site-packages (from matplotlib->detectflow==0.1.0) (0.10.0)\n",
      "Requirement already satisfied: fonttools>=4.22.0 in /usr/local/lib/python3.10/dist-packages (from matplotlib->detectflow==0.1.0) (4.42.0)\n",
      "Requirement already satisfied: kiwisolver>=1.0.1 in /usr/local/lib/python3.10/dist-packages (from matplotlib->detectflow==0.1.0) (1.4.4)\n",
      "Requirement already satisfied: packaging>=20.0 in /usr/local/lib/python3.10/dist-packages (from matplotlib->detectflow==0.1.0) (23.1)\n",
      "Requirement already satisfied: pyparsing<3.1,>=2.3.1 in /auto/brno2/home/USER/.local/lib/python3.10/site-packages (from matplotlib->detectflow==0.1.0) (2.4.7)\n",
      "Requirement already satisfied: six>=1.5 in /usr/local/lib/python3.10/dist-packages (from python-dateutil->detectflow==0.1.0) (1.16.0)\n",
      "Requirement already satisfied: pytz>=2020.1 in /usr/local/lib/python3.10/dist-packages (from pandas->detectflow==0.1.0) (2023.3)\n",
      "Requirement already satisfied: joblib>=1.1.1 in /usr/local/lib/python3.10/dist-packages (from scikit_learn->detectflow==0.1.0) (1.3.1)\n",
      "Requirement already satisfied: threadpoolctl>=2.0.0 in /usr/local/lib/python3.10/dist-packages (from scikit_learn->detectflow==0.1.0) (3.2.0)\n",
      "Requirement already satisfied: filelock in /usr/local/lib/python3.10/dist-packages (from torch->detectflow==0.1.0) (3.12.2)\n",
      "Requirement already satisfied: typing-extensions in /usr/local/lib/python3.10/dist-packages (from torch->detectflow==0.1.0) (4.7.1)\n",
      "Requirement already satisfied: sympy in /usr/local/lib/python3.10/dist-packages (from torch->detectflow==0.1.0) (1.12)\n",
      "Requirement already satisfied: networkx in /usr/local/lib/python3.10/dist-packages (from torch->detectflow==0.1.0) (2.6.3)\n",
      "Requirement already satisfied: jinja2 in /usr/local/lib/python3.10/dist-packages (from torch->detectflow==0.1.0) (3.1.2)\n",
      "Requirement already satisfied: fsspec in /usr/local/lib/python3.10/dist-packages (from torch->detectflow==0.1.0) (2023.6.0)\n",
      "Requirement already satisfied: pyyaml>=5.3.1 in /usr/local/lib/python3.10/dist-packages (from ultralytics->detectflow==0.1.0) (6.0.1)\n",
      "Requirement already satisfied: requests>=2.23.0 in /usr/local/lib/python3.10/dist-packages (from ultralytics->detectflow==0.1.0) (2.31.0)\n",
      "Requirement already satisfied: torchvision>=0.9.0 in /usr/local/lib/python3.10/dist-packages (from ultralytics->detectflow==0.1.0) (0.16.0a0)\n",
      "Requirement already satisfied: tqdm>=4.64.0 in /usr/local/lib/python3.10/dist-packages (from ultralytics->detectflow==0.1.0) (4.65.0)\n",
      "Requirement already satisfied: seaborn>=0.11.0 in /usr/local/lib/python3.10/dist-packages (from ultralytics->detectflow==0.1.0) (0.13.0)\n",
      "Requirement already satisfied: psutil in /usr/local/lib/python3.10/dist-packages (from ultralytics->detectflow==0.1.0) (5.9.4)\n",
      "Requirement already satisfied: py-cpuinfo in /usr/local/lib/python3.10/dist-packages (from ultralytics->detectflow==0.1.0) (9.0.0)\n",
      "Requirement already satisfied: thop>=0.1.1 in /usr/local/lib/python3.10/dist-packages (from ultralytics->detectflow==0.1.0) (0.1.1.post2209072238)\n",
      "Requirement already satisfied: urllib3<2.1,>=1.25.4 in /auto/brno2/home/USER/.local/lib/python3.10/site-packages (from botocore<1.34.0,>=1.33.10->boto3->detectflow==0.1.0) (2.0.7)\n",
      "Requirement already satisfied: charset-normalizer<4,>=2 in /usr/local/lib/python3.10/dist-packages (from requests>=2.23.0->ultralytics->detectflow==0.1.0) (3.2.0)\n",
      "Requirement already satisfied: idna<4,>=2.5 in /auto/brno2/home/USER/.local/lib/python3.10/site-packages (from requests>=2.23.0->ultralytics->detectflow==0.1.0) (2.10)\n",
      "Requirement already satisfied: certifi>=2017.4.17 in /usr/local/lib/python3.10/dist-packages (from requests>=2.23.0->ultralytics->detectflow==0.1.0) (2023.7.22)\n",
      "Requirement already satisfied: MarkupSafe>=2.0 in /usr/local/lib/python3.10/dist-packages (from jinja2->torch->detectflow==0.1.0) (2.1.3)\n",
      "Requirement already satisfied: mpmath>=0.19 in /usr/local/lib/python3.10/dist-packages (from sympy->torch->detectflow==0.1.0) (1.3.0)\n",
      "Installing collected packages: detectflow\n",
      "  Attempting uninstall: detectflow\n",
      "    Found existing installation: detectflow 0.1.0\n",
      "    Uninstalling detectflow-0.1.0:\n",
      "      Successfully uninstalled detectflow-0.1.0\n",
      "  Running setup.py develop for detectflow\n",
      "Successfully installed detectflow\n",
      "\n",
      "\u001B[1m[\u001B[0m\u001B[34;49mnotice\u001B[0m\u001B[1;39;49m]\u001B[0m\u001B[39;49m A new release of pip is available: \u001B[0m\u001B[31;49m23.2.1\u001B[0m\u001B[39;49m -> \u001B[0m\u001B[32;49m24.0\u001B[0m\n",
      "\u001B[1m[\u001B[0m\u001B[34;49mnotice\u001B[0m\u001B[1;39;49m]\u001B[0m\u001B[39;49m To update, run: \u001B[0m\u001B[32;49mpython -m pip install --upgrade pip\u001B[0m\n"
     ]
    }
   ],
   "source": [
    "# DetectFlow installation\n",
    "!cd \"/storage/brno2/home/$USER/onboarding/DetectFlow\" && git pull && pip install -e ."
   ],
   "metadata": {
    "collapsed": false
   },
   "id": "294ba3da13cc7b73"
  },
  {
   "cell_type": "code",
   "execution_count": 26,
   "outputs": [
    {
     "name": "stdout",
     "output_type": "stream",
     "text": [
      "['/auto/brno2/home/USER/notebooks', '/usr/lib/python310.zip', '/usr/lib/python3.10', '/usr/lib/python3.10/lib-dynload', '', '/storage/brno2/home/USER/.local/lib/python3.10/site-packages', '/auto/brno2/home/USER/onboarding/DetectFlow', '/usr/local/lib/python3.10/dist-packages', '/usr/lib/python3/dist-packages', '/auto/brno2/home/$USER/repos/DetectFlow', '/auto/brno2/home/$USER/repos/DetectFlow']\n"
     ]
    }
   ],
   "source": [
    "import sys\n",
    "sys.path.append('/auto/brno2/home/$USER/repos/DetectFlow')\n",
    "print(sys.path)"
   ],
   "metadata": {
    "collapsed": false
   },
   "id": "d24f79bb5871274a"
  },
  {
   "cell_type": "code",
   "execution_count": 19,
   "outputs": [
    {
     "name": "stdout",
     "output_type": "stream",
     "text": [
      "detectflow                0.1.0                /auto/brno2/home/USER/onboarding/DetectFlow\n",
      "\n",
      "\u001B[1m[\u001B[0m\u001B[34;49mnotice\u001B[0m\u001B[1;39;49m]\u001B[0m\u001B[39;49m A new release of pip is available: \u001B[0m\u001B[31;49m23.2.1\u001B[0m\u001B[39;49m -> \u001B[0m\u001B[32;49m24.0\u001B[0m\n",
      "\u001B[1m[\u001B[0m\u001B[34;49mnotice\u001B[0m\u001B[1;39;49m]\u001B[0m\u001B[39;49m To update, run: \u001B[0m\u001B[32;49mpython -m pip install --upgrade pip\u001B[0m\n"
     ]
    }
   ],
   "source": [
    "!pip list | grep detectflow"
   ],
   "metadata": {
    "collapsed": false
   },
   "id": "c6b63f608fce2589"
  },
  {
   "cell_type": "code",
   "execution_count": null,
   "outputs": [],
   "source": [
    "!pip list"
   ],
   "metadata": {
    "collapsed": false
   },
   "id": "22e111a2f0753cde"
  },
  {
   "cell_type": "markdown",
   "source": [
    "## Install dependencies\n",
    "\n",
    "Note that an error, yet unfixed, is the installation of our custom fork of the sahi package. Therefore it must be installed manually from our GitHub repository analogously to the DF installation."
   ],
   "metadata": {
    "collapsed": false
   },
   "id": "779073240cb2a43b"
  },
  {
   "cell_type": "code",
   "execution_count": null,
   "outputs": [],
   "source": [
    "# Clone GitHUb repository\n",
    "!cd \"/storage/brno2/home/$USER/onboarding/\" && git clone https://github.com/ChlupacTheBosmer/sahi"
   ],
   "metadata": {
    "collapsed": false
   },
   "id": "5e69ace354f3d3a0"
  },
  {
   "cell_type": "code",
   "execution_count": null,
   "outputs": [],
   "source": [
    "# sahi installation\n",
    "!cd \"/storage/brno2/home/$USER/onboarding/sahi\" && git pull && pip install -e ."
   ],
   "metadata": {
    "collapsed": false
   },
   "id": "897fcb63c2ad6104"
  },
  {
   "cell_type": "markdown",
   "source": [
    "## Install additional packages\n",
    "\n",
    "Sometimes you may need to install additional packages that are missing either because you chose to use other libraries or because some of the more complex installation procedures did not go as planned. Then you can use this simple command."
   ],
   "metadata": {
    "collapsed": false
   },
   "id": "9bdd93f115e51d41"
  },
  {
   "cell_type": "code",
   "execution_count": 35,
   "outputs": [
    {
     "name": "stdout",
     "output_type": "stream",
     "text": [
      "Defaulting to user installation because normal site-packages is not writeable\n",
      "Looking in indexes: https://pypi.org/simple, https://pypi.ngc.nvidia.com\n",
      "Requirement already satisfied: imageio in /auto/brno2/home/USER/.local/lib/python3.10/site-packages (2.33.0)\n",
      "Requirement already satisfied: numpy in /usr/local/lib/python3.10/dist-packages (from imageio) (1.22.2)\n",
      "Requirement already satisfied: pillow>=8.3.2 in /auto/brno2/home/USER/.local/lib/python3.10/site-packages (from imageio) (10.1.0)\n",
      "\n",
      "\u001B[1m[\u001B[0m\u001B[34;49mnotice\u001B[0m\u001B[1;39;49m]\u001B[0m\u001B[39;49m A new release of pip is available: \u001B[0m\u001B[31;49m23.2.1\u001B[0m\u001B[39;49m -> \u001B[0m\u001B[32;49m24.0\u001B[0m\n",
      "\u001B[1m[\u001B[0m\u001B[34;49mnotice\u001B[0m\u001B[1;39;49m]\u001B[0m\u001B[39;49m To update, run: \u001B[0m\u001B[32;49mpython -m pip install --upgrade pip\u001B[0m\n",
      "Defaulting to user installation because normal site-packages is not writeable\n",
      "Looking in indexes: https://pypi.org/simple, https://pypi.ngc.nvidia.com\n",
      "Requirement already satisfied: hachoir in /auto/brno2/home/USER/.local/lib/python3.10/site-packages (3.2.0)\n",
      "\n",
      "\u001B[1m[\u001B[0m\u001B[34;49mnotice\u001B[0m\u001B[1;39;49m]\u001B[0m\u001B[39;49m A new release of pip is available: \u001B[0m\u001B[31;49m23.2.1\u001B[0m\u001B[39;49m -> \u001B[0m\u001B[32;49m24.0\u001B[0m\n",
      "\u001B[1m[\u001B[0m\u001B[34;49mnotice\u001B[0m\u001B[1;39;49m]\u001B[0m\u001B[39;49m To update, run: \u001B[0m\u001B[32;49mpython -m pip install --upgrade pip\u001B[0m\n"
     ]
    }
   ],
   "source": [
    "# Installs the package 'imageio'\n",
    "!pip install imageio\n",
    "\n",
    "# Install the submodule of imageio ffmpeg. This may be done in some environments.\n",
    "# If that happens you will be notified in the console when you attempt to use \n",
    "# the relevant functionality and it fails.\n",
    "!pip install imageio['ffmpeg']"
   ],
   "metadata": {
    "collapsed": false
   },
   "id": "f6a09ae244ad95a3"
  },
  {
   "cell_type": "markdown",
   "source": [
    "## Install configuration\n",
    "\n",
    "Detectflow contains functionality manipulating with your S3 storage. To connect to the storage you must supply a valid config file. You can either pass the path to such file whenever initializing a class or using a function that requires it or you can supply such information into the default config location and the detectflow package will retrieve such information automatically. Below you will find a function that will install the .s3.cfg file. Make sure to modify the variables to contain the correct values for your S3 storage. Make sure not to upload this or any other file containing the secret information to github or anywhere else. To that end you may need to exclude this and the .s3.cfg files from being tracked by git. The config file is located at 'detectflow/detectflow/config/.s3.cfg'."
   ],
   "metadata": {
    "collapsed": false
   },
   "id": "32514174cd20702e"
  },
  {
   "cell_type": "code",
   "execution_count": null,
   "outputs": [],
   "source": [
    "host_base = ''  # internet address such as https://s3.cf6.br.hostname.com\n",
    "use_https = 'True'  # True or False\n",
    "access_key = ''  # key such as 'FGV5F9B686CS28S45S6S'\n",
    "secret_key = ''  # key such as '6SFsGsFffEfGDSf85gf8Dgd2hfdHFsfhfHgHsefv'\n",
    "host_bucket = ''  # host bucket such as 's3.cf6.br.hostname.com'"
   ],
   "metadata": {
    "collapsed": false
   },
   "id": "b296d5f5165e1d13"
  },
  {
   "cell_type": "code",
   "execution_count": null,
   "outputs": [],
   "source": [
    "import os\n",
    "from detectflow import S3_CONFIG, Validator\n",
    "\n",
    "# Define the configuration content\n",
    "config_content = f\"\"\"\n",
    "[default]\n",
    "host_base = {host_base}\n",
    "use_https = {use_https}\n",
    "access_key = {access_key}\n",
    "secret_key = {secret_key}\n",
    "host_bucket = {host_bucket}\n",
    "\"\"\"\n",
    "\n",
    "# Get the value of the USER environment variable\n",
    "user = os.getenv('USER')\n",
    "\n",
    "# Define the file path\n",
    "predefined_location = S3_CONFIG\n",
    "\n",
    "# Ensure the directory exists\n",
    "os.makedirs(os.path.dirname(predefined_location), exist_ok=True)\n",
    "\n",
    "# Write the configuration to the file\n",
    "with open(predefined_location, 'w') as config_file:\n",
    "    config_file.write(config_content)\n",
    "\n",
    "print(f\"Configuration saved to {predefined_location}\")\n",
    "print(f\"Configuration verification status: {Validator.is_valid_file_path(S3_CONFIG)}\")"
   ],
   "metadata": {
    "collapsed": false
   },
   "id": "e4b75afd4a58ad1d"
  }
 ],
 "metadata": {
  "kernelspec": {
   "display_name": "Python 3",
   "language": "python",
   "name": "python3"
  },
  "language_info": {
   "codemirror_mode": {
    "name": "ipython",
    "version": 2
   },
   "file_extension": ".py",
   "mimetype": "text/x-python",
   "name": "python",
   "nbconvert_exporter": "python",
   "pygments_lexer": "ipython2",
   "version": "2.7.6"
  }
 },
 "nbformat": 4,
 "nbformat_minor": 5
}
